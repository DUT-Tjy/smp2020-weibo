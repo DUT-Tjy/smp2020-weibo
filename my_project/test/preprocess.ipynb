{
 "cells": [
  {
   "cell_type": "code",
   "execution_count": 5,
   "metadata": {},
   "outputs": [],
   "source": [
    "import pandas as pd"
   ]
  },
  {
   "cell_type": "code",
   "execution_count": 7,
   "metadata": {},
   "outputs": [],
   "source": [
    "test_df_1 = pd.read_excel('usual_test.xlsx')\n",
    "test_df_2 = pd.read_excel('virus_test.xlsx')"
   ]
  },
  {
   "cell_type": "code",
   "execution_count": 10,
   "metadata": {},
   "outputs": [],
   "source": [
    "test_df = test_df_1.append(test_df_2, ignore_index=True)"
   ]
  },
  {
   "cell_type": "code",
   "execution_count": 11,
   "metadata": {},
   "outputs": [],
   "source": [
    "test_df = test_df.rename(columns={'数据编号':'id', '文本':'content'})"
   ]
  },
  {
   "cell_type": "code",
   "execution_count": 12,
   "metadata": {},
   "outputs": [
    {
     "name": "stderr",
     "output_type": "stream",
     "text": [
      "/Users/lishuqi/anaconda3/lib/python3.7/site-packages/ipykernel_launcher.py:2: SettingWithCopyWarning: \n",
      "A value is trying to be set on a copy of a slice from a DataFrame\n",
      "\n",
      "See the caveats in the documentation: https://pandas.pydata.org/pandas-docs/stable/user_guide/indexing.html#returning-a-view-versus-a-copy\n",
      "  \n"
     ]
    }
   ],
   "source": [
    "for i in range(len(test_df)):\n",
    "    test_df['id'][i] = i"
   ]
  },
  {
   "cell_type": "code",
   "execution_count": 14,
   "metadata": {},
   "outputs": [],
   "source": [
    "test_df['id'] = test_df['id'].astype(int)\n",
    "test_df['content'] = test_df['content'].astype(str)\n",
    "test_df['label'] = 2"
   ]
  },
  {
   "cell_type": "code",
   "execution_count": 15,
   "metadata": {},
   "outputs": [
    {
     "data": {
      "text/html": [
       "<div>\n",
       "<style scoped>\n",
       "    .dataframe tbody tr th:only-of-type {\n",
       "        vertical-align: middle;\n",
       "    }\n",
       "\n",
       "    .dataframe tbody tr th {\n",
       "        vertical-align: top;\n",
       "    }\n",
       "\n",
       "    .dataframe thead th {\n",
       "        text-align: right;\n",
       "    }\n",
       "</style>\n",
       "<table border=\"1\" class=\"dataframe\">\n",
       "  <thead>\n",
       "    <tr style=\"text-align: right;\">\n",
       "      <th></th>\n",
       "      <th>id</th>\n",
       "      <th>content</th>\n",
       "      <th>label</th>\n",
       "    </tr>\n",
       "  </thead>\n",
       "  <tbody>\n",
       "    <tr>\n",
       "      <th>0</th>\n",
       "      <td>0</td>\n",
       "      <td>我发表了头条文章:《你不是真正的快乐》 你不是真正的快乐</td>\n",
       "      <td>2</td>\n",
       "    </tr>\n",
       "    <tr>\n",
       "      <th>1</th>\n",
       "      <td>1</td>\n",
       "      <td>【熬过去就结婚】两个人相处时间久了，你会惊讶地发现，你的眼睛竟有点像他的眼睛，他的微笑竟也有...</td>\n",
       "      <td>2</td>\n",
       "    </tr>\n",
       "    <tr>\n",
       "      <th>2</th>\n",
       "      <td>2</td>\n",
       "      <td>我喜欢这样的女人，穿得起几千元的大衣，也不嫌弃几十元的T恤，享受得了高档的咖啡厅，也咽得下路...</td>\n",
       "      <td>2</td>\n",
       "    </tr>\n",
       "    <tr>\n",
       "      <th>3</th>\n",
       "      <td>3</td>\n",
       "      <td>不涉及政治因素，我还蛮欣赏老鳖创作才华的。</td>\n",
       "      <td>2</td>\n",
       "    </tr>\n",
       "    <tr>\n",
       "      <th>4</th>\n",
       "      <td>4</td>\n",
       "      <td>服用避孕药可能出现的不良反应服用口服避孕药，虽然只有少数妇女出现不良反应，但要大家了解常见的...</td>\n",
       "      <td>2</td>\n",
       "    </tr>\n",
       "    <tr>\n",
       "      <th>...</th>\n",
       "      <td>...</td>\n",
       "      <td>...</td>\n",
       "      <td>...</td>\n",
       "    </tr>\n",
       "    <tr>\n",
       "      <th>99995</th>\n",
       "      <td>99995</td>\n",
       "      <td>#武汉新型冠状病毒肺炎# 说得太在理了，成为了公害，这样贪嘴的人越少越好。</td>\n",
       "      <td>2</td>\n",
       "    </tr>\n",
       "    <tr>\n",
       "      <th>99996</th>\n",
       "      <td>99996</td>\n",
       "      <td>国务院：2020年春节假期延长至2月2日来源中国新闻网  国务院办公厅27日发布关于延长20...</td>\n",
       "      <td>2</td>\n",
       "    </tr>\n",
       "    <tr>\n",
       "      <th>99997</th>\n",
       "      <td>99997</td>\n",
       "      <td>这是不是说 武汉疫情高峰期要过去了？</td>\n",
       "      <td>2</td>\n",
       "    </tr>\n",
       "    <tr>\n",
       "      <th>99998</th>\n",
       "      <td>99998</td>\n",
       "      <td>看了这个，我只能祈祷我和我的家人运气好</td>\n",
       "      <td>2</td>\n",
       "    </tr>\n",
       "    <tr>\n",
       "      <th>99999</th>\n",
       "      <td>99999</td>\n",
       "      <td>市委书记和省委书记好像没咋露过面。。。</td>\n",
       "      <td>2</td>\n",
       "    </tr>\n",
       "  </tbody>\n",
       "</table>\n",
       "<p>100000 rows × 3 columns</p>\n",
       "</div>"
      ],
      "text/plain": [
       "          id                                            content  label\n",
       "0          0                       我发表了头条文章:《你不是真正的快乐》 你不是真正的快乐      2\n",
       "1          1  【熬过去就结婚】两个人相处时间久了，你会惊讶地发现，你的眼睛竟有点像他的眼睛，他的微笑竟也有...      2\n",
       "2          2  我喜欢这样的女人，穿得起几千元的大衣，也不嫌弃几十元的T恤，享受得了高档的咖啡厅，也咽得下路...      2\n",
       "3          3                              不涉及政治因素，我还蛮欣赏老鳖创作才华的。      2\n",
       "4          4  服用避孕药可能出现的不良反应服用口服避孕药，虽然只有少数妇女出现不良反应，但要大家了解常见的...      2\n",
       "...      ...                                                ...    ...\n",
       "99995  99995              #武汉新型冠状病毒肺炎# 说得太在理了，成为了公害，这样贪嘴的人越少越好。      2\n",
       "99996  99996  国务院：2020年春节假期延长至2月2日来源中国新闻网  国务院办公厅27日发布关于延长20...      2\n",
       "99997  99997                                 这是不是说 武汉疫情高峰期要过去了？      2\n",
       "99998  99998                                看了这个，我只能祈祷我和我的家人运气好      2\n",
       "99999  99999                                市委书记和省委书记好像没咋露过面。。。      2\n",
       "\n",
       "[100000 rows x 3 columns]"
      ]
     },
     "execution_count": 15,
     "metadata": {},
     "output_type": "execute_result"
    }
   ],
   "source": [
    "test_df"
   ]
  },
  {
   "cell_type": "code",
   "execution_count": 16,
   "metadata": {},
   "outputs": [],
   "source": [
    "test_df.to_csv('test.csv')"
   ]
  },
  {
   "cell_type": "code",
   "execution_count": null,
   "metadata": {},
   "outputs": [],
   "source": []
  }
 ],
 "metadata": {
  "kernelspec": {
   "display_name": "Python 3",
   "language": "python",
   "name": "python3"
  },
  "language_info": {
   "codemirror_mode": {
    "name": "ipython",
    "version": 3
   },
   "file_extension": ".py",
   "mimetype": "text/x-python",
   "name": "python",
   "nbconvert_exporter": "python",
   "pygments_lexer": "ipython3",
   "version": "3.7.2"
  }
 },
 "nbformat": 4,
 "nbformat_minor": 2
}
