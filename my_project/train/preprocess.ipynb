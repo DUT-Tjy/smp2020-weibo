{
 "cells": [
  {
   "cell_type": "code",
   "execution_count": 1,
   "metadata": {},
   "outputs": [],
   "source": [
    "import pandas as pd"
   ]
  },
  {
   "cell_type": "code",
   "execution_count": 2,
   "metadata": {},
   "outputs": [],
   "source": [
    "train_df_1 = pd.read_excel('usual_train.xlsx')\n",
    "train_df_2 = pd.read_excel('virus_train.xlsx')"
   ]
  },
  {
   "cell_type": "code",
   "execution_count": 3,
   "metadata": {},
   "outputs": [],
   "source": [
    "test_df_1 = pd.read_excel('usual_eval.xlsx')\n",
    "test_df_2 = pd.read_excel('virus_eval.xlsx')"
   ]
  },
  {
   "cell_type": "code",
   "execution_count": 4,
   "metadata": {},
   "outputs": [],
   "source": [
    "train_df = train_df_1.append(train_df_2, ignore_index=True)\n",
    "test_df = test_df_1.append(test_df_2, ignore_index=True)"
   ]
  },
  {
   "cell_type": "code",
   "execution_count": 5,
   "metadata": {
    "scrolled": true
   },
   "outputs": [
    {
     "data": {
      "text/plain": [
       "happy       9802\n",
       "angry       9666\n",
       "neural      7209\n",
       "sad         5639\n",
       "surprise    2283\n",
       "fear        1775\n",
       "Name: 情绪标签, dtype: int64"
      ]
     },
     "execution_count": 5,
     "metadata": {},
     "output_type": "execute_result"
    }
   ],
   "source": [
    "train_df['情绪标签'].value_counts()"
   ]
  },
  {
   "cell_type": "code",
   "execution_count": 6,
   "metadata": {},
   "outputs": [],
   "source": [
    "train_df = train_df.rename(columns={'数据编号':'id', '文本':'content', '情绪标签':'label'})\n",
    "test_df = test_df.rename(columns={'数据编号':'id', '文本':'content'})"
   ]
  },
  {
   "cell_type": "code",
   "execution_count": 7,
   "metadata": {},
   "outputs": [
    {
     "name": "stderr",
     "output_type": "stream",
     "text": [
      "/Users/lishuqi/anaconda3/lib/python3.7/site-packages/pandas/core/indexing.py:671: SettingWithCopyWarning: \n",
      "A value is trying to be set on a copy of a slice from a DataFrame\n",
      "\n",
      "See the caveats in the documentation: https://pandas.pydata.org/pandas-docs/stable/user_guide/indexing.html#returning-a-view-versus-a-copy\n",
      "  self._setitem_with_indexer(indexer, value)\n"
     ]
    }
   ],
   "source": [
    "train_df['label'].loc[train_df['label'] == 'happy'] = 0\n",
    "train_df['label'].loc[train_df['label'] == 'angry'] = 1\n",
    "train_df['label'].loc[train_df['label'] == 'neural'] = 2\n",
    "train_df['label'].loc[train_df['label'] == 'sad'] = 3\n",
    "train_df['label'].loc[train_df['label'] == 'surprise'] = 4\n",
    "train_df['label'].loc[train_df['label'] == 'fear'] = 5"
   ]
  },
  {
   "cell_type": "code",
   "execution_count": 8,
   "metadata": {},
   "outputs": [
    {
     "name": "stderr",
     "output_type": "stream",
     "text": [
      "/Users/lishuqi/anaconda3/lib/python3.7/site-packages/ipykernel_launcher.py:2: SettingWithCopyWarning: \n",
      "A value is trying to be set on a copy of a slice from a DataFrame\n",
      "\n",
      "See the caveats in the documentation: https://pandas.pydata.org/pandas-docs/stable/user_guide/indexing.html#returning-a-view-versus-a-copy\n",
      "  \n",
      "/Users/lishuqi/anaconda3/lib/python3.7/site-packages/ipykernel_launcher.py:4: SettingWithCopyWarning: \n",
      "A value is trying to be set on a copy of a slice from a DataFrame\n",
      "\n",
      "See the caveats in the documentation: https://pandas.pydata.org/pandas-docs/stable/user_guide/indexing.html#returning-a-view-versus-a-copy\n",
      "  after removing the cwd from sys.path.\n"
     ]
    }
   ],
   "source": [
    "for i in range(len(train_df)):\n",
    "    train_df['id'][i] = i\n",
    "for i in range(len(test_df)):\n",
    "    test_df['id'][i] = i"
   ]
  },
  {
   "cell_type": "code",
   "execution_count": 9,
   "metadata": {},
   "outputs": [],
   "source": [
    "train_df['id'] = train_df['id'].astype(int)\n",
    "train_df['content'] = train_df['content'].astype(str)\n",
    "train_df['label'] = train_df['label'].astype(int)\n",
    "test_df['id'] = test_df['id'].astype(int)\n",
    "test_df['content'] = test_df['content'].astype(str)"
   ]
  },
  {
   "cell_type": "code",
   "execution_count": 10,
   "metadata": {},
   "outputs": [],
   "source": [
    "test_df['label'] = 2"
   ]
  },
  {
   "cell_type": "code",
   "execution_count": 11,
   "metadata": {},
   "outputs": [],
   "source": [
    "import numpy as np\n",
    "from sklearn.model_selection import StratifiedKFold\n",
    "import os\n",
    "\n",
    "X = np.array(train_df.index)\n",
    "y = train_df.loc[:,'label'].to_numpy()"
   ]
  },
  {
   "cell_type": "code",
   "execution_count": 12,
   "metadata": {},
   "outputs": [],
   "source": [
    "def generate_data(random_state=42):\n",
    "    skf = StratifiedKFold(n_splits=5, shuffle=True, random_state=random_state)\n",
    "    i = 0\n",
    "    for train_index, dev_index in skf.split(X, y):\n",
    "        print(i, \"TRAIN:\", train_index, \"TEST:\", dev_index)\n",
    "        DATA_DIR = \"./data_StratifiedKFold_{}/data_origin_{}/\".format(random_state,i)\n",
    "        if not os.path.exists(DATA_DIR):\n",
    "            os.makedirs(DATA_DIR)\n",
    "        tmp_train_df = train_df.iloc[train_index]\n",
    "        \n",
    "        tmp_dev_df = train_df.iloc[dev_index]\n",
    "        \n",
    "        test_df.to_csv(DATA_DIR+\"test.csv\")\n",
    "        tmp_train_df.to_csv(DATA_DIR + \"train.csv\")\n",
    "        tmp_dev_df.to_csv(DATA_DIR+\"dev.csv\")\n",
    "        print(tmp_train_df.shape, tmp_dev_df.shape)\n",
    "        i+=1"
   ]
  },
  {
   "cell_type": "code",
   "execution_count": 13,
   "metadata": {},
   "outputs": [
    {
     "name": "stdout",
     "output_type": "stream",
     "text": [
      "0 TRAIN: [    0     1     2 ... 36371 36372 36373] TEST: [   24    26    28 ... 36346 36361 36362]\n",
      "(29097, 3) (7277, 3)\n",
      "1 TRAIN: [    0     1     2 ... 36370 36372 36373] TEST: [    3    10    12 ... 36345 36353 36371]\n",
      "(29098, 3) (7276, 3)\n",
      "2 TRAIN: [    0     2     3 ... 36366 36370 36371] TEST: [    1     5     6 ... 36369 36372 36373]\n",
      "(29099, 3) (7275, 3)\n",
      "3 TRAIN: [    0     1     2 ... 36371 36372 36373] TEST: [    4    35    36 ... 36359 36364 36365]\n",
      "(29100, 3) (7274, 3)\n",
      "4 TRAIN: [    1     3     4 ... 36371 36372 36373] TEST: [    0     2     7 ... 36355 36366 36370]\n",
      "(29102, 3) (7272, 3)\n"
     ]
    }
   ],
   "source": [
    "generate_data(random_state=24)"
   ]
  },
  {
   "cell_type": "code",
   "execution_count": 14,
   "metadata": {},
   "outputs": [],
   "source": [
    "train_df.to_csv('all_train.csv')\n",
    "test_df.to_csv('all_test.csv')"
   ]
  },
  {
   "cell_type": "code",
   "execution_count": null,
   "metadata": {},
   "outputs": [],
   "source": []
  }
 ],
 "metadata": {
  "kernelspec": {
   "display_name": "Python 3",
   "language": "python",
   "name": "python3"
  },
  "language_info": {
   "codemirror_mode": {
    "name": "ipython",
    "version": 3
   },
   "file_extension": ".py",
   "mimetype": "text/x-python",
   "name": "python",
   "nbconvert_exporter": "python",
   "pygments_lexer": "ipython3",
   "version": "3.7.2"
  }
 },
 "nbformat": 4,
 "nbformat_minor": 2
}
